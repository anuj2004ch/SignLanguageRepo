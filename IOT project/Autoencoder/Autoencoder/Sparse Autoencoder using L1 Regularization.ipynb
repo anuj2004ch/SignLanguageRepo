{
 "cells": [
  {
   "cell_type": "code",
   "execution_count": 142,
   "id": "traditional-technical",
   "metadata": {},
   "outputs": [],
   "source": [
    "import keras\n",
    "import numpy as np\n",
    "import matplotlib.pyplot as plt\n",
    "%matplotlib inline\n",
    "from keras.datasets import mnist\n",
    "from keras.models import Model\n",
    "from keras.layers import Input, add\n",
    "from keras.layers.core import Layer, Dense, Dropout, Activation, Flatten, Reshape\n",
    "from keras import regularizers\n",
    "from keras.regularizers import l2\n",
    "from keras.layers.convolutional import Conv2D, MaxPooling2D, UpSampling2D, ZeroPadding2D\n",
    "from keras.utils import np_utils"
   ]
  },
  {
   "cell_type": "code",
   "execution_count": 143,
   "id": "severe-console",
   "metadata": {},
   "outputs": [
    {
     "name": "stdout",
     "output_type": "stream",
     "text": [
      "X_train shape: (60000, 28, 28, 1)\n",
      "60000 train samples\n",
      "10000 test samples\n"
     ]
    }
   ],
   "source": [
    "nb_classes = 10\n",
    "\n",
    "(X_train, y_train), (X_test, y_test) = mnist.load_data()\n",
    "\n",
    "X_train = X_train.reshape(X_train.shape[0], 28,28,1)\n",
    "X_test = X_test.reshape(X_test.shape[0], 28,28,1)\n",
    "X_train = X_train.astype(\"float32\")/255.\n",
    "X_test = X_test.astype(\"float32\")/255.\n",
    "print('X_train shape:', X_train.shape)\n",
    "print(X_train.shape[0], 'train samples')\n",
    "print(X_test.shape[0], 'test samples')\n",
    "\n",
    "y_train = np_utils.to_categorical(y_train, nb_classes)\n",
    "y_test = np_utils.to_categorical(y_test, nb_classes)"
   ]
  },
  {
   "cell_type": "code",
   "execution_count": 144,
   "id": "fifth-american",
   "metadata": {},
   "outputs": [],
   "source": [
    "#Flatten the images for the Fully-Connected Networks\n",
    "X_train = X_train.reshape((len(X_train), np.prod(X_train.shape[1:])))\n",
    "X_test = X_test.reshape((len(X_test), np.prod(X_test.shape[1:])))"
   ]
  },
  {
   "cell_type": "code",
   "execution_count": 145,
   "id": "differential-police",
   "metadata": {},
   "outputs": [],
   "source": [
    "input_size = 784\n",
    "hidden_size = 32\n",
    "output_size = 784"
   ]
  },
  {
   "cell_type": "code",
   "execution_count": 146,
   "id": "formed-canberra",
   "metadata": {},
   "outputs": [],
   "source": [
    "x = Input(shape=(input_size,))\n",
    "h = Dense(hidden_size, activation='relu', activity_regularizer=regularizers.l1(10e-10))(x)\n",
    "r = Dense(output_size, activation='relu')(h)\n",
    "\n",
    "autoencoder = Model(x,r)\n",
    "autoencoder.compile(optimizer='adam', loss='mse')\n"
   ]
  },
  {
   "cell_type": "code",
   "execution_count": 147,
   "id": "comparable-winner",
   "metadata": {},
   "outputs": [
    {
     "name": "stdout",
     "output_type": "stream",
     "text": [
      "Model: \"model_15\"\n",
      "_________________________________________________________________\n",
      "Layer (type)                 Output Shape              Param #   \n",
      "=================================================================\n",
      "input_15 (InputLayer)        (None, 784)               0         \n",
      "_________________________________________________________________\n",
      "dense_29 (Dense)             (None, 32)                25120     \n",
      "_________________________________________________________________\n",
      "dense_30 (Dense)             (None, 784)               25872     \n",
      "=================================================================\n",
      "Total params: 50,992\n",
      "Trainable params: 50,992\n",
      "Non-trainable params: 0\n",
      "_________________________________________________________________\n",
      "None\n"
     ]
    }
   ],
   "source": [
    "print(autoencoder.summary())"
   ]
  },
  {
   "cell_type": "code",
   "execution_count": 148,
   "id": "violent-south",
   "metadata": {},
   "outputs": [
    {
     "name": "stdout",
     "output_type": "stream",
     "text": [
      "Train on 60000 samples, validate on 10000 samples\n",
      "Epoch 1/50\n",
      "60000/60000 [==============================] - 1s 12us/step - loss: 0.0677 - val_loss: 0.0457\n",
      "Epoch 2/50\n",
      "60000/60000 [==============================] - 1s 9us/step - loss: 0.0369 - val_loss: 0.0300\n",
      "Epoch 3/50\n",
      "60000/60000 [==============================] - 1s 9us/step - loss: 0.0268 - val_loss: 0.0234\n",
      "Epoch 4/50\n",
      "60000/60000 [==============================] - 1s 9us/step - loss: 0.0219 - val_loss: 0.0199\n",
      "Epoch 5/50\n",
      "60000/60000 [==============================] - 1s 10us/step - loss: 0.0192 - val_loss: 0.0179\n",
      "Epoch 6/50\n",
      "60000/60000 [==============================] - 1s 10us/step - loss: 0.0177 - val_loss: 0.0167\n",
      "Epoch 7/50\n",
      "60000/60000 [==============================] - 1s 10us/step - loss: 0.0167 - val_loss: 0.0160\n",
      "Epoch 8/50\n",
      "60000/60000 [==============================] - 1s 9us/step - loss: 0.0161 - val_loss: 0.0155\n",
      "Epoch 9/50\n",
      "60000/60000 [==============================] - 1s 9us/step - loss: 0.0157 - val_loss: 0.0151\n",
      "Epoch 10/50\n",
      "60000/60000 [==============================] - 1s 9us/step - loss: 0.0154 - val_loss: 0.0149\n",
      "Epoch 11/50\n",
      "60000/60000 [==============================] - 1s 9us/step - loss: 0.0152 - val_loss: 0.0147\n",
      "Epoch 12/50\n",
      "60000/60000 [==============================] - 1s 9us/step - loss: 0.0150 - val_loss: 0.0146\n",
      "Epoch 13/50\n",
      "60000/60000 [==============================] - 1s 9us/step - loss: 0.0149 - val_loss: 0.0143\n",
      "Epoch 14/50\n",
      "60000/60000 [==============================] - 1s 9us/step - loss: 0.0145 - val_loss: 0.0141\n",
      "Epoch 15/50\n",
      "60000/60000 [==============================] - 1s 9us/step - loss: 0.0144 - val_loss: 0.0140\n",
      "Epoch 16/50\n",
      "60000/60000 [==============================] - 1s 9us/step - loss: 0.0143 - val_loss: 0.0140\n",
      "Epoch 17/50\n",
      "60000/60000 [==============================] - 1s 9us/step - loss: 0.0143 - val_loss: 0.0139\n",
      "Epoch 18/50\n",
      "60000/60000 [==============================] - 1s 9us/step - loss: 0.0142 - val_loss: 0.0139\n",
      "Epoch 19/50\n",
      "60000/60000 [==============================] - 1s 9us/step - loss: 0.0142 - val_loss: 0.0138\n",
      "Epoch 20/50\n",
      "60000/60000 [==============================] - 1s 9us/step - loss: 0.0142 - val_loss: 0.0138\n",
      "Epoch 21/50\n",
      "60000/60000 [==============================] - 1s 9us/step - loss: 0.0141 - val_loss: 0.0138\n",
      "Epoch 22/50\n",
      "60000/60000 [==============================] - 1s 9us/step - loss: 0.0141 - val_loss: 0.0138\n",
      "Epoch 23/50\n",
      "60000/60000 [==============================] - 1s 9us/step - loss: 0.0141 - val_loss: 0.0137\n",
      "Epoch 24/50\n",
      "60000/60000 [==============================] - 1s 9us/step - loss: 0.0141 - val_loss: 0.0138\n",
      "Epoch 25/50\n",
      "60000/60000 [==============================] - 1s 9us/step - loss: 0.0141 - val_loss: 0.0137\n",
      "Epoch 26/50\n",
      "60000/60000 [==============================] - 1s 9us/step - loss: 0.0141 - val_loss: 0.0137\n",
      "Epoch 27/50\n",
      "60000/60000 [==============================] - 1s 9us/step - loss: 0.0140 - val_loss: 0.0137\n",
      "Epoch 28/50\n",
      "60000/60000 [==============================] - 1s 9us/step - loss: 0.0140 - val_loss: 0.0137\n",
      "Epoch 29/50\n",
      "60000/60000 [==============================] - 1s 9us/step - loss: 0.0140 - val_loss: 0.0137\n",
      "Epoch 30/50\n",
      "60000/60000 [==============================] - 1s 9us/step - loss: 0.0140 - val_loss: 0.0137\n",
      "Epoch 31/50\n",
      "60000/60000 [==============================] - 1s 9us/step - loss: 0.0140 - val_loss: 0.0137\n",
      "Epoch 32/50\n",
      "60000/60000 [==============================] - 1s 9us/step - loss: 0.0140 - val_loss: 0.0137\n",
      "Epoch 33/50\n",
      "60000/60000 [==============================] - 1s 9us/step - loss: 0.0140 - val_loss: 0.0137\n",
      "Epoch 34/50\n",
      "60000/60000 [==============================] - 1s 9us/step - loss: 0.0140 - val_loss: 0.0137\n",
      "Epoch 35/50\n",
      "60000/60000 [==============================] - 1s 9us/step - loss: 0.0140 - val_loss: 0.0137\n",
      "Epoch 36/50\n",
      "60000/60000 [==============================] - 1s 9us/step - loss: 0.0140 - val_loss: 0.0137\n",
      "Epoch 37/50\n",
      "60000/60000 [==============================] - 1s 9us/step - loss: 0.0140 - val_loss: 0.0137\n",
      "Epoch 38/50\n",
      "60000/60000 [==============================] - 1s 9us/step - loss: 0.0140 - val_loss: 0.0137\n",
      "Epoch 39/50\n",
      "60000/60000 [==============================] - 1s 9us/step - loss: 0.0140 - val_loss: 0.0137\n",
      "Epoch 40/50\n",
      "60000/60000 [==============================] - 1s 9us/step - loss: 0.0140 - val_loss: 0.0137\n",
      "Epoch 41/50\n",
      "60000/60000 [==============================] - 1s 9us/step - loss: 0.0140 - val_loss: 0.0136\n",
      "Epoch 42/50\n",
      "60000/60000 [==============================] - 1s 9us/step - loss: 0.0140 - val_loss: 0.0137\n",
      "Epoch 43/50\n",
      "60000/60000 [==============================] - 1s 9us/step - loss: 0.0140 - val_loss: 0.0136\n",
      "Epoch 44/50\n",
      "60000/60000 [==============================] - 1s 9us/step - loss: 0.0140 - val_loss: 0.0136\n",
      "Epoch 45/50\n",
      "60000/60000 [==============================] - 1s 9us/step - loss: 0.0139 - val_loss: 0.0136\n",
      "Epoch 46/50\n",
      "60000/60000 [==============================] - 1s 9us/step - loss: 0.0139 - val_loss: 0.0136\n",
      "Epoch 47/50\n",
      "60000/60000 [==============================] - 1s 9us/step - loss: 0.0139 - val_loss: 0.0136\n",
      "Epoch 48/50\n",
      "60000/60000 [==============================] - 1s 9us/step - loss: 0.0139 - val_loss: 0.0136\n",
      "Epoch 49/50\n",
      "60000/60000 [==============================] - 1s 9us/step - loss: 0.0139 - val_loss: 0.0136\n",
      "Epoch 50/50\n",
      "60000/60000 [==============================] - 1s 9us/step - loss: 0.0139 - val_loss: 0.0136\n"
     ]
    }
   ],
   "source": [
    "epochs = 50\n",
    "batch_size = 1000\n",
    "\n",
    "history = autoencoder.fit(X_train, X_train, batch_size=batch_size, epochs=epochs, verbose=1, validation_data=(X_test, X_test))"
   ]
  },
  {
   "cell_type": "code",
   "execution_count": 149,
   "id": "mexican-rwanda",
   "metadata": {},
   "outputs": [],
   "source": [
    "decoded_imgs = autoencoder.predict(X_test)"
   ]
  },
  {
   "cell_type": "code",
   "execution_count": 150,
   "id": "radio-jason",
   "metadata": {},
   "outputs": [
    {
     "data": {
      "image/png": "[encoded data removed]",
      "text/plain": [
       "<Figure size 1440x432 with 20 Axes>"
      ]
     },
     "metadata": {
      "needs_background": "light"
     },
     "output_type": "display_data"
    }
   ],
   "source": [
    "# Display Original and reconstructed images\n",
    "n = 10\n",
    "plt.figure(figsize=(20, 6))\n",
    "\n",
    "for i in range(n):\n",
    "    # display original\n",
    "    ax = plt.subplot(3, n, i+1)\n",
    "    plt.imshow(X_test[i].reshape(28, 28))\n",
    "    plt.gray()\n",
    "    ax.get_xaxis().set_visible(False)\n",
    "    ax.get_yaxis().set_visible(False)\n",
    "    \n",
    "    # display reconstruction\n",
    "    ax = plt.subplot(3, n, i+n+1)\n",
    "    plt.imshow(decoded_imgs[i].reshape(28, 28))\n",
    "    plt.gray()\n",
    "    \n",
    "    ax.get_xaxis().set_visible(False)\n",
    "    ax.get_yaxis().set_visible(False)\n",
    "    \n",
    "plt.show()"
   ]
  },
  {
   "cell_type": "code",
   "execution_count": 151,
   "id": "intended-linux",
   "metadata": {},
   "outputs": [
    {
     "data": {
      "image/png": "[encoded data removed]",
      "text/plain": [
       "<Figure size 720x432 with 1 Axes>"
      ]
     },
     "metadata": {
      "needs_background": "light"
     },
     "output_type": "display_data"
    }
   ],
   "source": [
    "fig=plt.figure(figsize=(10,6))\n",
    "plt.plot(history.history['loss'])\n",
    "plt.plot(history.history['val_loss'])\n",
    "plt.title('model loss')\n",
    "plt.ylabel('loss')\n",
    "plt.xlabel('epoch')\n",
    "plt.legend(['train', 'validation'], loc='upper right')\n",
    "plt.show()"
   ]
  },
  {
   "cell_type": "code",
   "execution_count": null,
   "id": "palestinian-joint",
   "metadata": {},
   "outputs": [],
   "source": []
  },
  {
   "cell_type": "code",
   "execution_count": null,
   "id": "major-surgery",
   "metadata": {},
   "outputs": [],
   "source": []
  }
 ],
 "metadata": {
  "kernelspec": {
   "display_name": "Python 3",
   "language": "python",
   "name": "python3"
  },
  "language_info": {
   "codemirror_mode": {
    "name": "ipython",
    "version": 3
   },
   "file_extension": ".py",
   "mimetype": "text/x-python",
   "name": "python",
   "nbconvert_exporter": "python",
   "pygments_lexer": "ipython3",
   "version": "3.7.10"
  }
 },
 "nbformat": 4,
 "nbformat_minor": 5
}
