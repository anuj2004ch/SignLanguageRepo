{
 "cells": [
  {
   "cell_type": "code",
   "execution_count": 154,
   "id": "primary-workshop",
   "metadata": {},
   "outputs": [],
   "source": [
    "from tensorflow.keras.models import Model\n",
    "from tensorflow.keras.layers import Input, Dense, Conv2D, MaxPooling2D, UpSampling2D\n",
    "from tensorflow.keras import backend as K\n",
    "from tensorflow.keras import regularizers\n",
    "import tensorflow as tf\n",
    "#plotting\n",
    "import matplotlib.pyplot as plt\n",
    "%matplotlib inline\n",
    "\n",
    "#dataset\n",
    "from keras.datasets import mnist\n",
    "import numpy as np"
   ]
  },
  {
   "cell_type": "code",
   "execution_count": 155,
   "id": "numerical-reserve",
   "metadata": {},
   "outputs": [
    {
     "name": "stdout",
     "output_type": "stream",
     "text": [
      "(60000, 784) (10000, 784)\n"
     ]
    }
   ],
   "source": [
    "(x_train, _), (x_test, _) = mnist.load_data()\n",
    "x_train = x_train.astype('float32') / 255\n",
    "x_test = x_test.astype('float32') / 255\n",
    "x_train = x_train.reshape((len(x_train), np.prod(x_train.shape[1:])))\n",
    "x_test = x_test.reshape((len(x_test), np.prod(x_test.shape[1:])))\n",
    "print(x_train.shape, x_test.shape)"
   ]
  },
  {
   "cell_type": "markdown",
   "id": "laughing-tokyo",
   "metadata": {},
   "source": [
    "# Define the Sparse Regularizer"
   ]
  },
  {
   "cell_type": "code",
   "execution_count": 156,
   "id": "aware-fraction",
   "metadata": {},
   "outputs": [],
   "source": [
    "def sparse_regularizer(activation_matrix):\n",
    "    p = 0.001\n",
    "    beta = 3\n",
    "    p_hat = K.mean(activation_matrix) \n",
    "  \n",
    "    KL_divergence = p*(K.log(p/p_hat)) + (1-p)*(K.log(1-p/1-p_hat))\n",
    "    \n",
    "    sum = K.sum(KL_divergence) \n",
    "   \n",
    "    return beta * sum"
   ]
  },
  {
   "cell_type": "code",
   "execution_count": 157,
   "id": "meaning-abortion",
   "metadata": {},
   "outputs": [],
   "source": [
    "encoding_dim = 200\n",
    "lambda_ = 0.00001 \n",
    "input_img = Input(shape=(784,))\n",
    "\n",
    "#Define the encoder which takes the images as the inputs and returns the code:\n",
    "\n",
    "encoder = Dense(encoding_dim, \n",
    "                activation='relu',\n",
    "                kernel_regularizer=regularizers.l2(lambda_/2),activity_regularizer=sparse_regularizer)(input_img)"
   ]
  },
  {
   "cell_type": "code",
   "execution_count": 158,
   "id": "chinese-government",
   "metadata": {},
   "outputs": [],
   "source": [
    "decoder = Dense(784,\n",
    "                activation='relu',\n",
    "                kernel_regularizer=regularizers.l2(lambda_/2),activity_regularizer=sparse_regularizer)(encoder)"
   ]
  },
  {
   "cell_type": "code",
   "execution_count": 159,
   "id": "following-consistency",
   "metadata": {},
   "outputs": [
    {
     "name": "stdout",
     "output_type": "stream",
     "text": [
      "Model: \"model_15\"\n",
      "_________________________________________________________________\n",
      "Layer (type)                 Output Shape              Param #   \n",
      "=================================================================\n",
      "input_16 (InputLayer)        [(None, 784)]             0         \n",
      "_________________________________________________________________\n",
      "dense_30 (Dense)             (None, 200)               157000    \n",
      "_________________________________________________________________\n",
      "dense_31 (Dense)             (None, 784)               157584    \n",
      "=================================================================\n",
      "Total params: 314,584\n",
      "Trainable params: 314,584\n",
      "Non-trainable params: 0\n",
      "_________________________________________________________________\n"
     ]
    }
   ],
   "source": [
    "model = Model(input_img, decoder)\n",
    "model.summary()"
   ]
  },
  {
   "cell_type": "code",
   "execution_count": 160,
   "id": "overhead-borough",
   "metadata": {},
   "outputs": [],
   "source": [
    "model.compile(optimizer='adam', loss='mse')"
   ]
  },
  {
   "cell_type": "code",
   "execution_count": 161,
   "id": "specific-order",
   "metadata": {},
   "outputs": [
    {
     "name": "stdout",
     "output_type": "stream",
     "text": [
      "Train on 60000 samples, validate on 10000 samples\n",
      "Epoch 1/50\n",
      "60000/60000 [==============================] - 1s 25us/sample - loss: 0.0988 - val_loss: 0.0818\n",
      "Epoch 2/50\n",
      "60000/60000 [==============================] - 0s 3us/sample - loss: 0.0751 - val_loss: 0.0667\n",
      "Epoch 3/50\n",
      "60000/60000 [==============================] - 0s 3us/sample - loss: 0.0631 - val_loss: 0.0581\n",
      "Epoch 4/50\n",
      "60000/60000 [==============================] - 0s 3us/sample - loss: 0.0549 - val_loss: 0.0498\n",
      "Epoch 5/50\n",
      "60000/60000 [==============================] - 0s 3us/sample - loss: 0.0470 - val_loss: 0.0427\n",
      "Epoch 6/50\n",
      "60000/60000 [==============================] - 0s 3us/sample - loss: 0.0407 - val_loss: 0.0370\n",
      "Epoch 7/50\n",
      "60000/60000 [==============================] - 0s 3us/sample - loss: 0.0354 - val_loss: 0.0324\n",
      "Epoch 8/50\n",
      "60000/60000 [==============================] - 0s 3us/sample - loss: 0.0311 - val_loss: 0.0286\n",
      "Epoch 9/50\n",
      "60000/60000 [==============================] - 0s 3us/sample - loss: 0.0276 - val_loss: 0.0254\n",
      "Epoch 10/50\n",
      "60000/60000 [==============================] - 0s 3us/sample - loss: 0.0246 - val_loss: 0.0227\n",
      "Epoch 11/50\n",
      "60000/60000 [==============================] - 0s 3us/sample - loss: 0.0221 - val_loss: 0.0205\n",
      "Epoch 12/50\n",
      "60000/60000 [==============================] - 0s 3us/sample - loss: 0.0201 - val_loss: 0.0187\n",
      "Epoch 13/50\n",
      "60000/60000 [==============================] - 0s 3us/sample - loss: 0.0184 - val_loss: 0.0172\n",
      "Epoch 14/50\n",
      "60000/60000 [==============================] - 0s 3us/sample - loss: 0.0170 - val_loss: 0.0160\n",
      "Epoch 15/50\n",
      "60000/60000 [==============================] - 0s 3us/sample - loss: 0.0158 - val_loss: 0.0149\n",
      "Epoch 16/50\n",
      "60000/60000 [==============================] - 0s 3us/sample - loss: 0.0148 - val_loss: 0.0140\n",
      "Epoch 17/50\n",
      "60000/60000 [==============================] - 0s 3us/sample - loss: 0.0139 - val_loss: 0.0129\n",
      "Epoch 18/50\n",
      "60000/60000 [==============================] - 0s 3us/sample - loss: nan - val_loss: nan\n",
      "Epoch 19/50\n",
      "60000/60000 [==============================] - 0s 3us/sample - loss: nan - val_loss: nan\n",
      "Epoch 20/50\n",
      "60000/60000 [==============================] - 0s 3us/sample - loss: nan - val_loss: nan\n",
      "Epoch 21/50\n",
      "60000/60000 [==============================] - 0s 3us/sample - loss: nan - val_loss: nan\n",
      "Epoch 22/50\n",
      "60000/60000 [==============================] - 0s 3us/sample - loss: nan - val_loss: nan\n",
      "Epoch 23/50\n",
      "60000/60000 [==============================] - 0s 3us/sample - loss: nan - val_loss: nan\n",
      "Epoch 24/50\n",
      "60000/60000 [==============================] - 0s 3us/sample - loss: nan - val_loss: nan\n",
      "Epoch 25/50\n",
      "60000/60000 [==============================] - 0s 3us/sample - loss: nan - val_loss: nan\n",
      "Epoch 26/50\n",
      "60000/60000 [==============================] - 0s 3us/sample - loss: nan - val_loss: nan\n",
      "Epoch 27/50\n",
      "60000/60000 [==============================] - 0s 3us/sample - loss: nan - val_loss: nan\n",
      "Epoch 28/50\n",
      "60000/60000 [==============================] - 0s 3us/sample - loss: nan - val_loss: nan\n",
      "Epoch 29/50\n",
      "60000/60000 [==============================] - 0s 3us/sample - loss: nan - val_loss: nan\n",
      "Epoch 30/50\n",
      "60000/60000 [==============================] - 0s 3us/sample - loss: nan - val_loss: 0.0094\n",
      "Epoch 31/50\n",
      "60000/60000 [==============================] - 0s 3us/sample - loss: 0.0100 - val_loss: 0.0100\n",
      "Epoch 32/50\n",
      "60000/60000 [==============================] - 0s 3us/sample - loss: 0.0102 - val_loss: 0.0100\n",
      "Epoch 33/50\n",
      "60000/60000 [==============================] - 0s 3us/sample - loss: 0.0100 - val_loss: 0.0096\n",
      "Epoch 34/50\n",
      "60000/60000 [==============================] - 0s 3us/sample - loss: 0.0097 - val_loss: 0.0092\n",
      "Epoch 35/50\n",
      "60000/60000 [==============================] - 0s 3us/sample - loss: 0.0093 - val_loss: 0.0089\n",
      "Epoch 36/50\n",
      "60000/60000 [==============================] - 0s 3us/sample - loss: 0.0089 - val_loss: 0.0085\n",
      "Epoch 37/50\n",
      "60000/60000 [==============================] - 0s 3us/sample - loss: 0.0085 - val_loss: 0.0081\n",
      "Epoch 38/50\n",
      "60000/60000 [==============================] - 0s 3us/sample - loss: 0.0079 - val_loss: nan\n",
      "Epoch 39/50\n",
      "60000/60000 [==============================] - 0s 3us/sample - loss: nan - val_loss: nan\n",
      "Epoch 40/50\n",
      "60000/60000 [==============================] - 0s 2us/sample - loss: nan - val_loss: nan\n",
      "Epoch 41/50\n",
      "60000/60000 [==============================] - 0s 2us/sample - loss: nan - val_loss: nan\n",
      "Epoch 42/50\n",
      "60000/60000 [==============================] - 0s 2us/sample - loss: nan - val_loss: nan\n",
      "Epoch 43/50\n",
      "60000/60000 [==============================] - 0s 2us/sample - loss: nan - val_loss: nan\n",
      "Epoch 44/50\n",
      "60000/60000 [==============================] - 0s 2us/sample - loss: nan - val_loss: nan\n",
      "Epoch 45/50\n",
      "60000/60000 [==============================] - 0s 2us/sample - loss: nan - val_loss: nan\n",
      "Epoch 46/50\n",
      "60000/60000 [==============================] - 0s 2us/sample - loss: nan - val_loss: nan\n",
      "Epoch 47/50\n",
      "60000/60000 [==============================] - 0s 2us/sample - loss: nan - val_loss: nan\n",
      "Epoch 48/50\n",
      "60000/60000 [==============================] - 0s 3us/sample - loss: nan - val_loss: nan\n",
      "Epoch 49/50\n",
      "60000/60000 [==============================] - 0s 2us/sample - loss: nan - val_loss: nan\n",
      "Epoch 50/50\n",
      "60000/60000 [==============================] - 0s 2us/sample - loss: nan - val_loss: nan\n"
     ]
    }
   ],
   "source": [
    "hist=model.fit(x_train, x_train, epochs=50, batch_size=10000, shuffle=True, validation_data=(x_test, x_test))"
   ]
  },
  {
   "cell_type": "code",
   "execution_count": 162,
   "id": "defensive-dollar",
   "metadata": {},
   "outputs": [],
   "source": [
    "decoded_img = model.predict(x_test)"
   ]
  },
  {
   "cell_type": "code",
   "execution_count": 163,
   "id": "artificial-country",
   "metadata": {},
   "outputs": [
    {
     "data": {
      "image/png": "[encoded data removed]",
      "text/plain": [
       "<Figure size 1440x432 with 20 Axes>"
      ]
     },
     "metadata": {
      "needs_background": "light"
     },
     "output_type": "display_data"
    }
   ],
   "source": [
    "# Display Original and reconstructed images\n",
    "n = 10\n",
    "plt.figure(figsize=(20, 6))\n",
    "\n",
    "for i in range(n):\n",
    "    # display original\n",
    "    ax = plt.subplot(3, n, i+1)\n",
    "    plt.imshow(x_test[i].reshape(28, 28))\n",
    "    plt.gray()\n",
    "    ax.get_xaxis().set_visible(False)\n",
    "    ax.get_yaxis().set_visible(False)\n",
    "\n",
    "    # display reconstruction\n",
    "    ax = plt.subplot(3, n, i+n+1)\n",
    "    plt.imshow(decoded_img[i].reshape(28, 28))\n",
    "    plt.gray()\n",
    "    \n",
    "    ax.get_xaxis().set_visible(False)\n",
    "    ax.get_yaxis().set_visible(False)\n",
    "    \n",
    "plt.show()"
   ]
  },
  {
   "cell_type": "code",
   "execution_count": 164,
   "id": "small-canberra",
   "metadata": {},
   "outputs": [
    {
     "data": {
      "image/png": "[encoded data removed]",
      "text/plain": [
       "<Figure size 720x432 with 1 Axes>"
      ]
     },
     "metadata": {
      "needs_background": "light"
     },
     "output_type": "display_data"
    }
   ],
   "source": [
    "fig=plt.figure(figsize=(10,6))\n",
    "plt.plot(hist.history['loss'])\n",
    "plt.plot(hist.history['val_loss'])\n",
    "plt.title('model loss')\n",
    "plt.ylabel('loss')\n",
    "plt.xlabel('epoch')\n",
    "plt.legend(['train', 'validation'], loc='upper right')\n",
    "plt.show()"
   ]
  },
  {
   "cell_type": "code",
   "execution_count": null,
   "id": "signal-honor",
   "metadata": {},
   "outputs": [],
   "source": []
  },
  {
   "cell_type": "code",
   "execution_count": null,
   "id": "foreign-implement",
   "metadata": {},
   "outputs": [],
   "source": []
  },
  {
   "cell_type": "code",
   "execution_count": null,
   "id": "civilian-trick",
   "metadata": {},
   "outputs": [],
   "source": []
  }
 ],
 "metadata": {
  "kernelspec": {
   "display_name": "Python 3",
   "language": "python",
   "name": "python3"
  },
  "language_info": {
   "codemirror_mode": {
    "name": "ipython",
    "version": 3
   },
   "file_extension": ".py",
   "mimetype": "text/x-python",
   "name": "python",
   "nbconvert_exporter": "python",
   "pygments_lexer": "ipython3",
   "version": "3.7.10"
  }
 },
 "nbformat": 4,
 "nbformat_minor": 5
}
