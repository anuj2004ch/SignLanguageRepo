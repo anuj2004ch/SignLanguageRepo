{
 "cells": [
  {
   "cell_type": "code",
   "execution_count": 16,
   "id": "thirty-parallel",
   "metadata": {},
   "outputs": [],
   "source": [
    "import keras\n",
    "import numpy as np\n",
    "import matplotlib.pyplot as plt\n",
    "%matplotlib inline\n",
    "from keras.datasets import mnist\n",
    "from keras.models import Model\n",
    "from keras.layers import Input, add\n",
    "from keras.layers.core import Layer, Dense, Dropout, Activation, Flatten, Reshape\n",
    "from keras import regularizers\n",
    "from keras.regularizers import l2\n",
    "from keras.layers.convolutional import Conv2D, MaxPooling2D, UpSampling2D, ZeroPadding2D\n",
    "from keras.utils import np_utils"
   ]
  },
  {
   "cell_type": "code",
   "execution_count": 17,
   "id": "stunning-thesaurus",
   "metadata": {},
   "outputs": [
    {
     "name": "stdout",
     "output_type": "stream",
     "text": [
      "X_train shape: (60000, 28, 28, 1)\n",
      "60000 train samples\n",
      "10000 test samples\n"
     ]
    }
   ],
   "source": [
    "nb_classes = 10\n",
    "\n",
    "(X_train, y_train), (X_test, y_test) = mnist.load_data()\n",
    "\n",
    "X_train = X_train.reshape(X_train.shape[0], 28, 28, 1)\n",
    "X_test = X_test.reshape(X_test.shape[0], 28, 28, 1)\n",
    "X_train = X_train.astype(\"float32\")/255.\n",
    "X_test = X_test.astype(\"float32\")/255.\n",
    "print('X_train shape:', X_train.shape)\n",
    "print(X_train.shape[0], 'train samples')\n",
    "print(X_test.shape[0], 'test samples')\n",
    "\n",
    "y_train = np_utils.to_categorical(y_train, nb_classes)\n",
    "y_test = np_utils.to_categorical(y_test, nb_classes)"
   ]
  },
  {
   "cell_type": "code",
   "execution_count": 18,
   "id": "large-subject",
   "metadata": {},
   "outputs": [],
   "source": [
    "# This network does not take flattened vectors as an input but images\n",
    "x = Input(shape=(28, 28,1)) \n",
    "\n",
    "# Encoder\n",
    "conv1_1 = Conv2D(16, (3, 3), activation='relu', padding='same')(x)\n",
    "pool1 = MaxPooling2D((2, 2), padding='same')(conv1_1)\n",
    "conv1_2 = Conv2D(8, (3, 3), activation='relu', padding='same')(pool1)\n",
    "pool2 = MaxPooling2D((2, 2), padding='same')(conv1_2)\n",
    "conv1_3 = Conv2D(8, (3, 3), activation='relu', padding='same')(pool2)\n",
    "h = MaxPooling2D((2, 2), padding='same')(conv1_3)\n",
    "\n",
    "\n",
    "# Decoder\n",
    "conv2_1 = Conv2D(8, (3, 3), activation='relu', padding='same')(h)\n",
    "up1 = UpSampling2D((2, 2))(conv2_1)\n",
    "conv2_2 = Conv2D(8, (3, 3), activation='relu', padding='same')(up1)\n",
    "up2 = UpSampling2D((2, 2))(conv2_2)\n",
    "conv2_3 = Conv2D(16, (3, 3), activation='relu')(up2)\n",
    "up3 = UpSampling2D((2, 2))(conv2_3)\n",
    "r = Conv2D(1, (3, 3), activation='sigmoid', padding='same')(up3)\n",
    "\n",
    "autoencoder = Model(inputs=x, outputs=r)\n",
    "autoencoder.compile(optimizer='adadelta', loss='binary_crossentropy')"
   ]
  },
  {
   "cell_type": "code",
   "execution_count": 19,
   "id": "recovered-biodiversity",
   "metadata": {},
   "outputs": [
    {
     "name": "stdout",
     "output_type": "stream",
     "text": [
      "Model: \"model_3\"\n",
      "_________________________________________________________________\n",
      "Layer (type)                 Output Shape              Param #   \n",
      "=================================================================\n",
      "input_3 (InputLayer)         (None, 28, 28, 1)         0         \n",
      "_________________________________________________________________\n",
      "conv2d_15 (Conv2D)           (None, 28, 28, 16)        160       \n",
      "_________________________________________________________________\n",
      "max_pooling2d_7 (MaxPooling2 (None, 14, 14, 16)        0         \n",
      "_________________________________________________________________\n",
      "conv2d_16 (Conv2D)           (None, 14, 14, 8)         1160      \n",
      "_________________________________________________________________\n",
      "max_pooling2d_8 (MaxPooling2 (None, 7, 7, 8)           0         \n",
      "_________________________________________________________________\n",
      "conv2d_17 (Conv2D)           (None, 7, 7, 8)           584       \n",
      "_________________________________________________________________\n",
      "max_pooling2d_9 (MaxPooling2 (None, 4, 4, 8)           0         \n",
      "_________________________________________________________________\n",
      "conv2d_18 (Conv2D)           (None, 4, 4, 8)           584       \n",
      "_________________________________________________________________\n",
      "up_sampling2d_7 (UpSampling2 (None, 8, 8, 8)           0         \n",
      "_________________________________________________________________\n",
      "conv2d_19 (Conv2D)           (None, 8, 8, 8)           584       \n",
      "_________________________________________________________________\n",
      "up_sampling2d_8 (UpSampling2 (None, 16, 16, 8)         0         \n",
      "_________________________________________________________________\n",
      "conv2d_20 (Conv2D)           (None, 14, 14, 16)        1168      \n",
      "_________________________________________________________________\n",
      "up_sampling2d_9 (UpSampling2 (None, 28, 28, 16)        0         \n",
      "_________________________________________________________________\n",
      "conv2d_21 (Conv2D)           (None, 28, 28, 1)         145       \n",
      "=================================================================\n",
      "Total params: 4,385\n",
      "Trainable params: 4,385\n",
      "Non-trainable params: 0\n",
      "_________________________________________________________________\n",
      "None\n"
     ]
    }
   ],
   "source": [
    "print(autoencoder.summary())"
   ]
  },
  {
   "cell_type": "code",
   "execution_count": 20,
   "id": "conscious-control",
   "metadata": {},
   "outputs": [
    {
     "name": "stdout",
     "output_type": "stream",
     "text": [
      "Train on 60000 samples, validate on 10000 samples\n",
      "Epoch 1/50\n",
      "60000/60000 [==============================] - 2s 28us/step - loss: 0.3939 - val_loss: 0.2441\n",
      "Epoch 2/50\n",
      "60000/60000 [==============================] - 1s 17us/step - loss: 0.2271 - val_loss: 0.2149\n",
      "Epoch 3/50\n",
      "60000/60000 [==============================] - 1s 17us/step - loss: 0.2058 - val_loss: 0.1954\n",
      "Epoch 4/50\n",
      "60000/60000 [==============================] - 1s 16us/step - loss: 0.1928 - val_loss: 0.1900\n",
      "Epoch 5/50\n",
      "60000/60000 [==============================] - 1s 16us/step - loss: 0.1834 - val_loss: 0.1842\n",
      "Epoch 6/50\n",
      "60000/60000 [==============================] - 1s 16us/step - loss: 0.1760 - val_loss: 0.1718\n",
      "Epoch 7/50\n",
      "60000/60000 [==============================] - 1s 16us/step - loss: 0.1701 - val_loss: 0.1687\n",
      "Epoch 8/50\n",
      "60000/60000 [==============================] - 1s 19us/step - loss: 0.1643 - val_loss: 0.1594\n",
      "Epoch 9/50\n",
      "60000/60000 [==============================] - 1s 18us/step - loss: 0.1600 - val_loss: 0.1573\n",
      "Epoch 10/50\n",
      "60000/60000 [==============================] - 1s 17us/step - loss: 0.1559 - val_loss: 0.1541\n",
      "Epoch 11/50\n",
      "60000/60000 [==============================] - 1s 18us/step - loss: 0.1521 - val_loss: 0.1499\n",
      "Epoch 12/50\n",
      "60000/60000 [==============================] - 1s 18us/step - loss: 0.1499 - val_loss: 0.1430\n",
      "Epoch 13/50\n",
      "60000/60000 [==============================] - 1s 17us/step - loss: 0.1471 - val_loss: 0.1451\n",
      "Epoch 14/50\n",
      "60000/60000 [==============================] - 1s 16us/step - loss: 0.1454 - val_loss: 0.1433\n",
      "Epoch 15/50\n",
      "60000/60000 [==============================] - 1s 17us/step - loss: 0.1432 - val_loss: 0.1424\n",
      "Epoch 16/50\n",
      "60000/60000 [==============================] - 1s 16us/step - loss: 0.1416 - val_loss: 0.1394\n",
      "Epoch 17/50\n",
      "60000/60000 [==============================] - 1s 16us/step - loss: 0.1403 - val_loss: 0.1391\n",
      "Epoch 18/50\n",
      "60000/60000 [==============================] - 1s 16us/step - loss: 0.1388 - val_loss: 0.1365\n",
      "Epoch 19/50\n",
      "60000/60000 [==============================] - 1s 17us/step - loss: 0.1377 - val_loss: 0.1366\n",
      "Epoch 20/50\n",
      "60000/60000 [==============================] - 1s 17us/step - loss: 0.1365 - val_loss: 0.1351\n",
      "Epoch 21/50\n",
      "60000/60000 [==============================] - 1s 17us/step - loss: 0.1357 - val_loss: 0.1349\n",
      "Epoch 22/50\n",
      "60000/60000 [==============================] - 1s 17us/step - loss: 0.1345 - val_loss: 0.1327\n",
      "Epoch 23/50\n",
      "60000/60000 [==============================] - 1s 18us/step - loss: 0.1338 - val_loss: 0.1323\n",
      "Epoch 24/50\n",
      "60000/60000 [==============================] - 1s 17us/step - loss: 0.1332 - val_loss: 0.1315\n",
      "Epoch 25/50\n",
      "60000/60000 [==============================] - 1s 16us/step - loss: 0.1323 - val_loss: 0.1314\n",
      "Epoch 26/50\n",
      "60000/60000 [==============================] - 1s 17us/step - loss: 0.1317 - val_loss: 0.1317\n",
      "Epoch 27/50\n",
      "60000/60000 [==============================] - 1s 18us/step - loss: 0.1306 - val_loss: 0.1304\n",
      "Epoch 28/50\n",
      "60000/60000 [==============================] - 1s 16us/step - loss: 0.1303 - val_loss: 0.1300\n",
      "Epoch 29/50\n",
      "60000/60000 [==============================] - 1s 18us/step - loss: 0.1296 - val_loss: 0.1293\n",
      "Epoch 30/50\n",
      "60000/60000 [==============================] - 1s 16us/step - loss: 0.1291 - val_loss: 0.1280\n",
      "Epoch 31/50\n",
      "60000/60000 [==============================] - 1s 17us/step - loss: 0.1283 - val_loss: 0.1283\n",
      "Epoch 32/50\n",
      "60000/60000 [==============================] - 1s 17us/step - loss: 0.1281 - val_loss: 0.1270\n",
      "Epoch 33/50\n",
      "60000/60000 [==============================] - 1s 18us/step - loss: 0.1274 - val_loss: 0.1252\n",
      "Epoch 34/50\n",
      "60000/60000 [==============================] - 1s 17us/step - loss: 0.1270 - val_loss: 0.1283\n",
      "Epoch 35/50\n",
      "60000/60000 [==============================] - 1s 16us/step - loss: 0.1264 - val_loss: 0.1261\n",
      "Epoch 36/50\n",
      "60000/60000 [==============================] - 1s 18us/step - loss: 0.1261 - val_loss: 0.1265\n",
      "Epoch 37/50\n",
      "60000/60000 [==============================] - 1s 18us/step - loss: 0.1257 - val_loss: 0.1233\n",
      "Epoch 38/50\n",
      "60000/60000 [==============================] - 1s 17us/step - loss: 0.1253 - val_loss: 0.1259\n",
      "Epoch 39/50\n",
      "60000/60000 [==============================] - 1s 17us/step - loss: 0.1250 - val_loss: 0.1247\n",
      "Epoch 40/50\n",
      "60000/60000 [==============================] - 1s 17us/step - loss: 0.1245 - val_loss: 0.1243\n",
      "Epoch 41/50\n",
      "60000/60000 [==============================] - 1s 17us/step - loss: 0.1242 - val_loss: 0.1244\n",
      "Epoch 42/50\n",
      "60000/60000 [==============================] - 1s 17us/step - loss: 0.1240 - val_loss: 0.1232\n",
      "Epoch 43/50\n",
      "60000/60000 [==============================] - 1s 17us/step - loss: 0.1233 - val_loss: 0.1254\n",
      "Epoch 44/50\n",
      "60000/60000 [==============================] - 1s 17us/step - loss: 0.1234 - val_loss: 0.1231\n",
      "Epoch 45/50\n",
      "60000/60000 [==============================] - 1s 17us/step - loss: 0.1229 - val_loss: 0.1224\n",
      "Epoch 46/50\n",
      "60000/60000 [==============================] - 1s 17us/step - loss: 0.1224 - val_loss: 0.1221\n",
      "Epoch 47/50\n",
      "60000/60000 [==============================] - 1s 17us/step - loss: 0.1222 - val_loss: 0.1244\n",
      "Epoch 48/50\n",
      "60000/60000 [==============================] - 1s 18us/step - loss: 0.1219 - val_loss: 0.1221\n",
      "Epoch 49/50\n",
      "60000/60000 [==============================] - 1s 17us/step - loss: 0.1215 - val_loss: 0.1212\n",
      "Epoch 50/50\n",
      "60000/60000 [==============================] - 1s 17us/step - loss: 0.1213 - val_loss: 0.1215\n"
     ]
    }
   ],
   "source": [
    "epochs = 50\n",
    "batch_size = 1000\n",
    "\n",
    "history = autoencoder.fit(X_train, X_train, batch_size=batch_size, epochs=epochs, verbose=1, validation_data=(X_test, X_test))"
   ]
  },
  {
   "cell_type": "code",
   "execution_count": 21,
   "id": "oriental-measure",
   "metadata": {},
   "outputs": [],
   "source": [
    "decoded_imgs = autoencoder.predict(X_test)"
   ]
  },
  {
   "cell_type": "code",
   "execution_count": 22,
   "id": "unusual-hypothesis",
   "metadata": {},
   "outputs": [
    {
     "data": {
      "image/png": "[encoded data removed]",
      "text/plain": [
       "<Figure size 1440x432 with 20 Axes>"
      ]
     },
     "metadata": {
      "needs_background": "light"
     },
     "output_type": "display_data"
    }
   ],
   "source": [
    "n = 10\n",
    "plt.figure(figsize=(20, 6))\n",
    "for i in range(n):\n",
    "    # display original\n",
    "    ax = plt.subplot(3, n, i+1)\n",
    "    plt.imshow(X_test[i].reshape(28, 28))\n",
    "    plt.gray()\n",
    "    ax.get_xaxis().set_visible(False)\n",
    "    ax.get_yaxis().set_visible(False)\n",
    "\n",
    "    \n",
    "    # display reconstruction\n",
    "    ax = plt.subplot(3, n, i+n+1)\n",
    "    plt.imshow(decoded_imgs[i].reshape(28, 28))\n",
    "    plt.gray()\n",
    "    ax.get_xaxis().set_visible(False)\n",
    "    ax.get_yaxis().set_visible(False)\n",
    "    \n",
    "plt.show()"
   ]
  },
  {
   "cell_type": "code",
   "execution_count": 23,
   "id": "abstract-basic",
   "metadata": {},
   "outputs": [
    {
     "name": "stdout",
     "output_type": "stream",
     "text": [
      "dict_keys(['val_loss', 'loss'])\n"
     ]
    },
    {
     "data": {
      "image/png": "[encoded data removed]",
      "text/plain": [
       "<Figure size 720x432 with 1 Axes>"
      ]
     },
     "metadata": {
      "needs_background": "light"
     },
     "output_type": "display_data"
    }
   ],
   "source": [
    "print(history.history.keys())\n",
    "fig=plt.figure(figsize=(10,6))\n",
    "plt.plot(history.history['loss'])\n",
    "plt.plot(history.history['val_loss'])\n",
    "plt.title('model loss')\n",
    "plt.ylabel('loss')\n",
    "plt.xlabel('epoch')\n",
    "plt.legend(['train', 'validation'], loc='upper right')\n",
    "plt.show()"
   ]
  },
  {
   "cell_type": "code",
   "execution_count": null,
   "id": "beginning-habitat",
   "metadata": {},
   "outputs": [],
   "source": []
  },
  {
   "cell_type": "code",
   "execution_count": null,
   "id": "central-entity",
   "metadata": {},
   "outputs": [],
   "source": []
  },
  {
   "cell_type": "code",
   "execution_count": null,
   "id": "suitable-stability",
   "metadata": {},
   "outputs": [],
   "source": []
  },
  {
   "cell_type": "code",
   "execution_count": null,
   "id": "round-stylus",
   "metadata": {},
   "outputs": [],
   "source": []
  }
 ],
 "metadata": {
  "kernelspec": {
   "display_name": "Python 3",
   "language": "python",
   "name": "python3"
  },
  "language_info": {
   "codemirror_mode": {
    "name": "ipython",
    "version": 3
   },
   "file_extension": ".py",
   "mimetype": "text/x-python",
   "name": "python",
   "nbconvert_exporter": "python",
   "pygments_lexer": "ipython3",
   "version": "3.7.10"
  }
 },
 "nbformat": 4,
 "nbformat_minor": 5
}
